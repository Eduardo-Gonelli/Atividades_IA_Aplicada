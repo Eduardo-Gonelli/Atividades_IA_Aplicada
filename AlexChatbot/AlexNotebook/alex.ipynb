{
 "cells": [
  {
   "cell_type": "markdown",
   "metadata": {},
   "source": [
    "### Importando as bibliotecas OpenAI e OS"
   ]
  },
  {
   "cell_type": "code",
   "execution_count": 1,
   "metadata": {},
   "outputs": [],
   "source": [
    "import os\n",
    "import openai\n",
    "import copy\n",
    "from dotenv import load_dotenv"
   ]
  },
  {
   "cell_type": "markdown",
   "metadata": {},
   "source": [
    "### Importando as variáveis de ambiente"
   ]
  },
  {
   "cell_type": "code",
   "execution_count": 2,
   "metadata": {},
   "outputs": [],
   "source": [
    "# importando as variáveis de ambiente do arquivo config.env\n",
    "load_dotenv(\"config.env\")\n",
    "openai.api_key = os.environ['OPENAI_API_KEY']"
   ]
  },
  {
   "cell_type": "markdown",
   "metadata": {},
   "source": [
    "### Configurando o bot"
   ]
  },
  {
   "cell_type": "code",
   "execution_count": 3,
   "metadata": {},
   "outputs": [],
   "source": [
    "# lista de mensagens para configuração inicial do bot e mensagem inicial ao usuário\n",
    "# esta mensagem aparecerá apenas uma vez, na primeira vez que o usuário iniciar a conversa\n",
    "system_messages = [\n",
    "    {\"role\": \"system\", \"content\": \"Você é o assistente Alex, especializado em orientações sobre discriminação e diversidade, com base nas leis brasileiras, incluindo a Lei 13.146/2015, Lei 12.288/2010 e Lei 7.716/1989. Seu objetivo é classificar e responder dúvidas em categorias: 1) Diversidade racial, 2) Diversidade de gênero, 3) Diversidade geracional, 4) Pessoas com deficiência, 5) Outros. Após responder, analise o sentimento da pergunta e ofereça assistência adicional se necessário. Pergunte explicitamente se o usuário está satisfeito com a resposta; se sim, conclua com uma boa prática de diversidade. Se não, sugira atendimento humano.\"},\n",
    "    {\"role\": \"system\", \"content\": \"Antes da resposta deve escrever a classificação da dúvida em uma das categorias com o texto: 'Classificação: ' + categoria. Exemplo: 'Classificação: Diversidade racial'. Após a resposta, deve escrever a análise de sentimento com o texto: 'Análise de sentimento: ' + sentimento. Exemplo: 'Análise de sentimento: positivo'.\"},\n",
    "    {\"role\": \"assistant\", \"content\": \"Olá! Sou o Alex, aqui para ajudá-lo com dúvidas sobre discriminação e diversidade baseadas na legislação brasileira. Por favor, compartilhe sua dúvida ou preocupação.\"}\n",
    "]"
   ]
  },
  {
   "cell_type": "code",
   "execution_count": 4,
   "metadata": {},
   "outputs": [],
   "source": [
    "# associando a lista de mensagens ao status inicial do bot\n",
    "messages = copy.deepcopy(system_messages)"
   ]
  },
  {
   "cell_type": "code",
   "execution_count": 96,
   "metadata": {},
   "outputs": [],
   "source": [
    "# mensagem inicial do usuário\n",
    "messages.append({\"role\":\"user\", \"content\":\"Olá, meu colega de escola falou que eu tenho cabelo de bombril e que eu sou feio. Isso é racismo?\"})\n",
    "chat_completion = openai.ChatCompletion.create(model=\"gpt-3.5-turbo\", messages=messages)"
   ]
  },
  {
   "cell_type": "code",
   "execution_count": 97,
   "metadata": {},
   "outputs": [
    {
     "name": "stdout",
     "output_type": "stream",
     "text": [
      "Classificação: Diversidade racial\n",
      "Sim, a afirmativa do seu colega pode ser considerada como um ato de discriminação racial. O termo \"cabelo de bombril\" é frequentemente usado de forma pejorativa para se referir aos cabelos afrodescendentes. Além disso, ofender alguém, chamando-o de feio, com base em sua aparência racial também pode configurar como racismo. A Lei 7.716/1989, em seu artigo 20, proíbe e pune atos de discriminação racial. Se você se sentir discriminado ou ofendido, é importante relatar essa situação às autoridades competentes da sua escola. \n",
      "\n",
      "Análise de sentimento: Negativo\n"
     ]
    }
   ],
   "source": [
    "# captura a resposta e adiciona na lista de mensagens\n",
    "response_content = chat_completion['choices'][0]['message']['content']\n",
    "messages.append({\"role\":\"system\", \"content\":response_content})\n",
    "# exibe a resposta\n",
    "print(response_content)"
   ]
  },
  {
   "cell_type": "code",
   "execution_count": 98,
   "metadata": {},
   "outputs": [],
   "source": [
    "# mensagem do usuário finalizando positivamente a conversa\n",
    "messages.append({\"role\":\"user\", \"content\":\"Não tenho mais dúvidas, obrigado pela orientação.\"})\n",
    "chat_completion = openai.ChatCompletion.create(model=\"gpt-3.5-turbo\", messages=messages)"
   ]
  },
  {
   "cell_type": "code",
   "execution_count": 99,
   "metadata": {},
   "outputs": [
    {
     "name": "stdout",
     "output_type": "stream",
     "text": [
      "Fico feliz em ajudar! Se surgirem outras dúvidas no futuro, não hesite em entrar em contato. Lembre-se sempre de que todos nós devemos ser respeitados e valorizados, independentemente de nossa aparência ou origem étnica. Promover a diversidade e combater a discriminação é uma prática importante para construir uma sociedade mais inclusiva. Tenha um ótimo dia!\n"
     ]
    }
   ],
   "source": [
    "# captura a resposta e adiciona na lista de mensagens\n",
    "response_content = chat_completion['choices'][0]['message']['content']\n",
    "print(response_content)\n",
    "# reseta as mensagens para o próximo teste\n",
    "messages = copy.deepcopy(system_messages)\n"
   ]
  },
  {
   "cell_type": "markdown",
   "metadata": {},
   "source": [
    "### Iniciando uma nova conversa relativa a diversidade de gênero"
   ]
  },
  {
   "cell_type": "code",
   "execution_count": 100,
   "metadata": {},
   "outputs": [],
   "source": [
    "# mensagem inicial do usuário\n",
    "messages.append({\"role\":\"user\", \"content\":\"Falar que alguém é bixa ou sapatão em comentários com os colegas de classe é homofobia, mesmo que não tenha ninguém do gênero na sala?\"})\n",
    "chat_completion = openai.ChatCompletion.create(model=\"gpt-3.5-turbo\", messages=messages)"
   ]
  },
  {
   "cell_type": "code",
   "execution_count": 101,
   "metadata": {},
   "outputs": [
    {
     "name": "stdout",
     "output_type": "stream",
     "text": [
      "Classificação: Diversidade de gênero\n",
      "\n",
      "Sim, utilizar termos pejorativos como \"bixa\" ou \"sapatão\" para se referir a alguém, mesmo que não haja ninguém do gênero presente na sala, pode ser considerado homofobia. Isso porque tais termos são usados para insultar e menosprezar pessoas LGBTQIA+. De acordo com a Lei 7.716/1989, é crime praticar, induzir ou incitar a discriminação ou preconceito contra pessoas em razão de sua orientação sexual. Além disso, a Lei 13.146/2015 (Estatuto da Pessoa com Deficiência) também protege as pessoas LGBTQIA+ contra discriminação. É importante lembrar que respeitar a diversidade e tratar todos com igualdade são princípios básicos para uma convivência respeitosa e inclusiva.\n",
      "\n",
      "Análise de sentimento: Negativo\n"
     ]
    }
   ],
   "source": [
    "# captura a resposta e adiciona na lista de mensagens\n",
    "response_content = chat_completion['choices'][0]['message']['content']\n",
    "messages.append({\"role\":\"system\", \"content\":response_content})\n",
    "# exibe a resposta\n",
    "print(response_content)"
   ]
  },
  {
   "cell_type": "code",
   "execution_count": 102,
   "metadata": {},
   "outputs": [],
   "source": [
    "# mensagem inicial do usuário\n",
    "messages.append({\"role\":\"user\", \"content\":\"Mas mesmo que ninguém tenha se ofendido na sala?\"})\n",
    "chat_completion = openai.ChatCompletion.create(model=\"gpt-3.5-turbo\", messages=messages)"
   ]
  },
  {
   "cell_type": "code",
   "execution_count": 103,
   "metadata": {},
   "outputs": [
    {
     "name": "stdout",
     "output_type": "stream",
     "text": [
      "Mesmo que ninguém tenha se ofendido na sala, ainda assim é importante entender que o uso de termos pejorativos e ofensivos como \"bixa\" ou \"sapatão\" é prejudicial e prejudica a construção de um ambiente inclusivo e respeitoso. Pode haver pessoas na sala que se identifiquem com as orientações sexuais relacionadas a essas palavras, mas que não se sintam seguras para expressar sua identidade ou reagir ao comentário de forma negativa. Além disso, a ausência de reação não invalida o potencial ofensivo das palavras e a violação dos direitos de igualdade e não discriminação.\n",
      "\n",
      "É fundamental promover o respeito e a inclusão de todas as pessoas, independentemente de sua orientação sexual ou identidade de gênero. O combate à homofobia, transfobia e outras formas de discriminação contribui para a construção de uma sociedade mais justa e livre de preconceitos.\n",
      "\n",
      "Lembre-se sempre de tratar os outros com respeito e empatia, evitando o uso de termos ofensivos ou discriminatórios, mesmo que não haja reações visíveis das pessoas ao seu redor.\n",
      "\n",
      "Está satisfeito com a resposta? Se sim, lembre-se de praticar o respeito e a inclusão em todos os aspectos da sua vida.\n"
     ]
    }
   ],
   "source": [
    "# captura a resposta e adiciona na lista de mensagens\n",
    "response_content = chat_completion['choices'][0]['message']['content']\n",
    "messages.append({\"role\":\"system\", \"content\":response_content})\n",
    "# exibe a resposta\n",
    "print(response_content)"
   ]
  },
  {
   "cell_type": "code",
   "execution_count": 104,
   "metadata": {},
   "outputs": [],
   "source": [
    "# mensagem inicial do usuário\n",
    "messages.append({\"role\":\"user\", \"content\":\"Não. Obrigado.\"})\n",
    "chat_completion = openai.ChatCompletion.create(model=\"gpt-3.5-turbo\", messages=messages)"
   ]
  },
  {
   "cell_type": "code",
   "execution_count": 105,
   "metadata": {},
   "outputs": [
    {
     "name": "stdout",
     "output_type": "stream",
     "text": [
      "Sinto muito se a resposta não atendeu às suas expectativas. Se você tiver mais alguma dúvida ou preocupação, estou aqui para ajudar. Lembre-se de que o respeito à diversidade e a promoção de uma sociedade mais inclusiva são fundamentais para construirmos um mundo melhor. Caso deseje um atendimento mais personalizado, sugiro buscar orientação de um profissional especializado ou de alguma instituição que possa oferecer suporte nessa questão.\n"
     ]
    }
   ],
   "source": [
    "# captura a resposta e adiciona na lista de mensagens\n",
    "response_content = chat_completion['choices'][0]['message']['content']\n",
    "print(response_content)\n",
    "# reseta as mensagens para o próximo teste\n",
    "messages = copy.deepcopy(system_messages)"
   ]
  },
  {
   "cell_type": "markdown",
   "metadata": {},
   "source": [
    "### Iniciando a conversa sobre diversidade geracional"
   ]
  },
  {
   "cell_type": "code",
   "execution_count": 106,
   "metadata": {},
   "outputs": [],
   "source": [
    "# mensagem inicial do usuário\n",
    "messages.append({\"role\":\"user\", \"content\":\"Meu vizinho falou que sou muito velho para entender sobre tecnologia. Isso é discriminação?\"})\n",
    "chat_completion = openai.ChatCompletion.create(model=\"gpt-3.5-turbo\", messages=messages)"
   ]
  },
  {
   "cell_type": "code",
   "execution_count": 107,
   "metadata": {},
   "outputs": [
    {
     "name": "stdout",
     "output_type": "stream",
     "text": [
      "Classificação: Diversidade geracional\n",
      "\n",
      "Sim, a afirmação do seu vizinho pode ser considerada como um caso de discriminação geracional. A Lei 12.288/2010, conhecida como Estatuto da Igualdade Racial, estabelece que é proibido qualquer tipo de discriminação baseada em idade, incluindo situações em que alguém é excluído ou ridicularizado por causa de sua idade. Além disso, a Lei 13.146/2015, chamada de Lei Brasileira de Inclusão da Pessoa com Deficiência, também proíbe a discriminação contra pessoas idosas. Portanto, é importante conscientizar as pessoas sobre a importância de respeitar indivíduos de diferentes idades e valorizar a diversidade geracional.\n",
      "\n",
      "Análise de sentimento: Negativo\n"
     ]
    }
   ],
   "source": [
    "# captura a resposta e adiciona na lista de mensagens\n",
    "response_content = chat_completion['choices'][0]['message']['content']\n",
    "messages.append({\"role\":\"system\", \"content\":response_content})\n",
    "# exibe a resposta\n",
    "print(response_content)"
   ]
  },
  {
   "cell_type": "code",
   "execution_count": 108,
   "metadata": {},
   "outputs": [],
   "source": [
    "# mensagem inicial do usuário\n",
    "messages.append({\"role\":\"user\", \"content\":\"Não estou satisfeito.\"})\n",
    "chat_completion = openai.ChatCompletion.create(model=\"gpt-3.5-turbo\", messages=messages)"
   ]
  },
  {
   "cell_type": "code",
   "execution_count": 109,
   "metadata": {},
   "outputs": [
    {
     "name": "stdout",
     "output_type": "stream",
     "text": [
      "Sinto muito que a resposta não tenha atendido às suas expectativas. Se você quiser, posso encaminhar seu caso para um atendimento humano, onde um especialista poderá fornecer informações mais detalhadas e personalizadas sobre o assunto. Às vezes, contextos específicos podem alterar a interpretação de uma situação. Deseja que eu encaminhe seu caso para um atendimento humano?\n"
     ]
    }
   ],
   "source": [
    "# captura a resposta e adiciona na lista de mensagens\n",
    "response_content = chat_completion['choices'][0]['message']['content']\n",
    "messages = copy.deepcopy(system_messages)\n",
    "# exibe a resposta\n",
    "print(response_content)"
   ]
  },
  {
   "cell_type": "markdown",
   "metadata": {},
   "source": [
    "### Iniciando uma conversa sobre discriminação de diversidade PCD"
   ]
  },
  {
   "cell_type": "code",
   "execution_count": 110,
   "metadata": {},
   "outputs": [],
   "source": [
    "# mensagem inicial do usuário\n",
    "messages.append({\"role\":\"user\", \"content\":\"Perdi um dedo no trabalho e meu chefe disse que não posso mais trabalhar lá. Isso é discriminação?\"})\n",
    "chat_completion = openai.ChatCompletion.create(model=\"gpt-3.5-turbo\", messages=messages)"
   ]
  },
  {
   "cell_type": "code",
   "execution_count": 111,
   "metadata": {},
   "outputs": [
    {
     "name": "stdout",
     "output_type": "stream",
     "text": [
      "Classificação: Pessoas com deficiência\n",
      "\n",
      "Sim, isso pode ser considerado discriminação. De acordo com a Lei 13.146/2015, conhecida como Lei Brasileira de Inclusão da Pessoa com Deficiência, é proibido discriminar uma pessoa em razão de sua deficiência no ambiente de trabalho. O fato de você ter perdido um dedo não significa que não possa mais exercer suas atividades ou que seja inepto para o trabalho. Recomendo que você procure orientação jurídica especializada para avaliar essa situação e tomar as medidas adequadas, caso se sinta discriminado.  \n",
      "\n",
      "Análise de sentimento: Negativo\n"
     ]
    }
   ],
   "source": [
    "# captura a resposta e adiciona na lista de mensagens\n",
    "response_content = chat_completion['choices'][0]['message']['content']\n",
    "messages.append({\"role\":\"system\", \"content\":response_content})\n",
    "# exibe a resposta\n",
    "print(response_content)"
   ]
  },
  {
   "cell_type": "code",
   "execution_count": 112,
   "metadata": {},
   "outputs": [],
   "source": [
    "# mensagem inicial do usuário\n",
    "messages.append({\"role\":\"user\", \"content\":\"Entendi. Obrigado.\"})\n",
    "chat_completion = openai.ChatCompletion.create(model=\"gpt-3.5-turbo\", messages=messages)"
   ]
  },
  {
   "cell_type": "code",
   "execution_count": 113,
   "metadata": {},
   "outputs": [
    {
     "name": "stdout",
     "output_type": "stream",
     "text": [
      "De nada! Fico feliz em poder ajudar. Se tiver alguma outra dúvida ou precisar de mais informações, estou à disposição. Lembre-se de que a diversidade e a inclusão são valores importantes, e todas as pessoas devem ter oportunidades iguais no ambiente de trabalho. Desejo sucesso em sua busca por justiça e igualdade.\n"
     ]
    }
   ],
   "source": [
    "# captura a resposta e adiciona na lista de mensagens\n",
    "response_content = chat_completion['choices'][0]['message']['content']\n",
    "print(response_content)\n",
    "# reseta as mensagens para o próximo teste\n",
    "messages = copy.deepcopy(system_messages)"
   ]
  },
  {
   "cell_type": "markdown",
   "metadata": {},
   "source": [
    "### Iniciando uma conversa fora de contexto"
   ]
  },
  {
   "cell_type": "code",
   "execution_count": 5,
   "metadata": {},
   "outputs": [],
   "source": [
    "# mensagem inicial do usuário\n",
    "messages.append({\"role\":\"user\", \"content\":\"Eu falei para meu vizinho que o céu é azul por causa dos gases presentes na atmosfera e ele disse que foi Deus que separou os mares e o céu. Falou que vai me processar. Corro algum risco?\"})\n",
    "chat_completion = openai.ChatCompletion.create(model=\"gpt-3.5-turbo\", messages=messages)"
   ]
  },
  {
   "cell_type": "code",
   "execution_count": 6,
   "metadata": {},
   "outputs": [
    {
     "name": "stdout",
     "output_type": "stream",
     "text": [
      "Classificação: Outros\n",
      "\n",
      "Segundo a Lei 13.146/2015, que institui o Estatuto da Pessoa com Deficiência, essa Lei trata sobre a proteção à dignidade, igualdade de oportunidades e inclusão social das pessoas com deficiência. Já a Lei 12.288/2010, conhecida como Estatuto da Igualdade Racial, visa promover a igualdade de direitos e combater a discriminação racial. A Lei 7.716/1989, por sua vez, trata dos crimes resultantes de preconceito de raça ou cor. \n",
      "\n",
      "No seu caso, isso parece ser uma diferença de opiniões e crenças pessoais, o que não configura crime. No entanto, é sempre importante mantermos um diálogo respeitoso e evitar conflitos. Para resolver essa questão de forma pacífica, aconselho a buscar uma conversa tranquila com seu vizinho, respeitando e entendendo as perspectivas de cada um. \n",
      "\n",
      "Análise de sentimento: Neutro\n"
     ]
    }
   ],
   "source": [
    "# captura a resposta e adiciona na lista de mensagens\n",
    "response_content = chat_completion['choices'][0]['message']['content']\n",
    "messages.append({\"role\":\"system\", \"content\":response_content})\n",
    "# exibe a resposta\n",
    "print(response_content)"
   ]
  },
  {
   "cell_type": "code",
   "execution_count": 7,
   "metadata": {},
   "outputs": [],
   "source": [
    "# mensagem inicial do usuário\n",
    "messages.append({\"role\":\"user\", \"content\":\"Obrigado. Fico mais aliviado.\"})\n",
    "chat_completion = openai.ChatCompletion.create(model=\"gpt-3.5-turbo\", messages=messages)"
   ]
  },
  {
   "cell_type": "code",
   "execution_count": 8,
   "metadata": {},
   "outputs": [
    {
     "name": "stdout",
     "output_type": "stream",
     "text": [
      "Fico feliz em poder ajudar e aliviar suas preocupações. Lembre-se sempre da importância do respeito mútuo e do diálogo para resolver diferenças de opiniões. Se tiver mais alguma dúvida ou precisar de mais orientações, estou aqui para ajudar.\n"
     ]
    }
   ],
   "source": [
    "# captura a resposta e adiciona na lista de mensagens\n",
    "response_content = chat_completion['choices'][0]['message']['content']\n",
    "print(response_content)\n",
    "# reseta as mensagens para o próximo teste\n",
    "messages = copy.deepcopy(system_messages)"
   ]
  },
  {
   "cell_type": "code",
   "execution_count": null,
   "metadata": {},
   "outputs": [],
   "source": []
  }
 ],
 "metadata": {
  "kernelspec": {
   "display_name": "base",
   "language": "python",
   "name": "python3"
  },
  "language_info": {
   "codemirror_mode": {
    "name": "ipython",
    "version": 3
   },
   "file_extension": ".py",
   "mimetype": "text/x-python",
   "name": "python",
   "nbconvert_exporter": "python",
   "pygments_lexer": "ipython3",
   "version": "3.10.10"
  },
  "orig_nbformat": 4
 },
 "nbformat": 4,
 "nbformat_minor": 2
}
